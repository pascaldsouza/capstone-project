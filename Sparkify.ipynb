{
 "cells": [
  {
   "cell_type": "markdown",
   "metadata": {},
   "source": [
    "# Sparkify Project Workspace\n",
    "This workspace contains a tiny subset (128MB) of the full dataset available (12GB). Feel free to use this workspace to build your project, or to explore a smaller subset with Spark before deploying your cluster on the cloud. Instructions for setting up your Spark cluster is included in the last lesson of the Extracurricular Spark Course content.\n",
    "\n",
    "You can follow the steps below to guide your data analysis and model building portion of this project."
   ]
  },
  {
   "cell_type": "code",
   "execution_count": 1,
   "metadata": {},
   "outputs": [],
   "source": [
    "# import libraries\n",
    "import re\n",
    "from datetime import datetime\n",
    "import numpy as np\n",
    "import pandas as pd\n",
    "import matplotlib.pyplot as plt\n",
    "import seaborn as sns\n",
    "import pyspark\n",
    "from pyspark import SparkConf\n",
    "from pyspark.sql import SparkSession\n",
    "from pyspark.sql import Window\n",
    "import pyspark.sql.functions as F\n",
    "from pyspark.ml.feature import VectorAssembler, StandardScaler, OneHotEncoder, StringIndexer\n",
    "from pyspark.ml.classification import LogisticRegression, GBTClassifier, RandomForestClassifier\n",
    "from pyspark.ml.classification import LogisticRegressionModel, GBTClassificationModel, RandomForestClassificationModel\n",
    "from pyspark.ml.evaluation import BinaryClassificationEvaluator\n",
    "import matplotlib.pyplot as plt\n",
    "import time\n",
    "from datetime import datetime\n",
    "from functools import reduce\n",
    "from pyspark.sql.functions import avg, col, concat, desc, explode, lit, min, max, split, udf\n",
    "from pyspark.sql.types import IntegerType\n",
    "from pyspark.ml.evaluation import BinaryClassificationEvaluator\n",
    "from pyspark.ml.feature import Normalizer, StringIndexer, VectorAssembler\n",
    "from pyspark.ml.tuning import CrossValidator, ParamGridBuilder, CrossValidatorModel\n",
    "\n"
   ]
  },
  {
   "cell_type": "code",
   "execution_count": 2,
   "metadata": {},
   "outputs": [],
   "source": [
    "\n",
    "spark = SparkSession.builder \\\n",
    "    .master(\"local\") \\\n",
    "    .appName(\"Sparkify Churn Analysis\") \\\n",
    "    .getOrCreate()"
   ]
  },
  {
   "cell_type": "markdown",
   "metadata": {},
   "source": [
    "# Load and Clean Dataset\n",
    "In this workspace, the mini-dataset file is `mini_sparkify_event_data.json`. Load and clean the dataset, checking for invalid or missing data - for example, records without userids or sessionids. "
   ]
  },
  {
   "cell_type": "code",
   "execution_count": 3,
   "metadata": {},
   "outputs": [
    {
     "data": {
      "text/plain": [
       "DataFrame[artist: string, auth: string, firstName: string, gender: string, itemInSession: bigint, lastName: string, length: double, level: string, location: string, method: string, page: string, registration: bigint, sessionId: bigint, song: string, status: bigint, ts: bigint, userAgent: string, userId: string]"
      ]
     },
     "execution_count": 3,
     "metadata": {},
     "output_type": "execute_result"
    }
   ],
   "source": [
    "sparkify_event_data = \"mini_sparkify_event_data.json\"\n",
    "df_sparkify = spark.read.json(sparkify_event_data)\n",
    "df_sparkify.persist()"
   ]
  },
  {
   "cell_type": "code",
   "execution_count": 4,
   "metadata": {},
   "outputs": [
    {
     "data": {
      "text/plain": [
       "Row(artist='Martha Tilston', auth='Logged In', firstName='Colin', gender='M', itemInSession=50, lastName='Freeman', length=277.89016, level='paid', location='Bakersfield, CA', method='PUT', page='NextSong', registration=1538173362000, sessionId=29, song='Rockpools', status=200, ts=1538352117000, userAgent='Mozilla/5.0 (Windows NT 6.1; WOW64; rv:31.0) Gecko/20100101 Firefox/31.0', userId='30')"
      ]
     },
     "execution_count": 4,
     "metadata": {},
     "output_type": "execute_result"
    }
   ],
   "source": [
    "df_sparkify.head()"
   ]
  },
  {
   "cell_type": "code",
   "execution_count": 5,
   "metadata": {},
   "outputs": [
    {
     "name": "stdout",
     "output_type": "stream",
     "text": [
      "+-------+------------------+----------+---------+------+------------------+--------+-----------------+------+-----------------+------+-------+--------------------+-----------------+--------------------+------------------+--------------------+--------------------+-----------------+\n",
      "|summary|            artist|      auth|firstName|gender|     itemInSession|lastName|           length| level|         location|method|   page|        registration|        sessionId|                song|            status|                  ts|           userAgent|           userId|\n",
      "+-------+------------------+----------+---------+------+------------------+--------+-----------------+------+-----------------+------+-------+--------------------+-----------------+--------------------+------------------+--------------------+--------------------+-----------------+\n",
      "|  count|            228108|    286500|   278154|278154|            286500|  278154|           228108|286500|           278154|286500| 286500|              278154|           286500|              228108|            286500|              286500|              278154|           286500|\n",
      "|   mean| 551.0852017937219|      null|     null|  null|114.41421291448516|    null|249.1171819778458|  null|             null|  null|   null|1.535358834084427...|1041.526554973822|            Infinity|210.05459685863875|1.540956889810483...|                null|59682.02278593872|\n",
      "| stddev|1217.7693079161374|      null|     null|  null|129.76726201140994|    null|99.23517921058361|  null|             null|  null|   null| 3.291321616327586E9|726.7762634630741|                 NaN| 31.50507848842214|1.5075439608226302E9|                null|109091.9499991047|\n",
      "|    min|               !!!| Cancelled| Adelaida|     F|                 0|   Adams|          0.78322|  free|       Albany, OR|   GET|  About|       1521380675000|                1|\u001c",
      "ÃÂg ÃÂtti Gr...|               200|       1538352117000|\"Mozilla/5.0 (Mac...|                 |\n",
      "|    max| ÃÂlafur Arnalds|Logged Out|   Zyonna|     M|              1321|  Wright|       3024.66567|  paid|Winston-Salem, NC|   PUT|Upgrade|       1543247354000|             2474|ÃÂau hafa slopp...|               404|       1543799476000|Mozilla/5.0 (comp...|               99|\n",
      "+-------+------------------+----------+---------+------+------------------+--------+-----------------+------+-----------------+------+-------+--------------------+-----------------+--------------------+------------------+--------------------+--------------------+-----------------+\n",
      "\n"
     ]
    }
   ],
   "source": [
    "df_sparkify.describe().show()"
   ]
  },
  {
   "cell_type": "code",
   "execution_count": 6,
   "metadata": {},
   "outputs": [
    {
     "data": {
      "text/plain": [
       "artist           58392\n",
       "auth                 0\n",
       "firstName         8346\n",
       "gender            8346\n",
       "itemInSession        0\n",
       "lastName          8346\n",
       "length           58392\n",
       "level                0\n",
       "location          8346\n",
       "method               0\n",
       "page                 0\n",
       "registration      8346\n",
       "sessionId            0\n",
       "song             58392\n",
       "status               0\n",
       "ts                   0\n",
       "userAgent         8346\n",
       "userId               0\n",
       "dtype: int64"
      ]
     },
     "execution_count": 6,
     "metadata": {},
     "output_type": "execute_result"
    }
   ],
   "source": [
    "df_sparkify.toPandas().isnull().sum()"
   ]
  },
  {
   "cell_type": "code",
   "execution_count": 7,
   "metadata": {},
   "outputs": [
    {
     "data": {
      "image/png": "[encoded data removed]",
      "text/plain": [
       "<matplotlib.figure.Figure at 0x7f4b230205f8>"
      ]
     },
     "metadata": {
      "needs_background": "light"
     },
     "output_type": "display_data"
    }
   ],
   "source": [
    "null_number = df_sparkify.toPandas().isnull().sum()\n",
    "\n",
    "plt.figure(figsize=(10, 5))\n",
    "plt.title('Distribution of Number of Missing Value Points in the Sparkify Dataset in Each Column')\n",
    "plt.hist(null_number / df_sparkify.count() * 100, bins=100)\n",
    "plt.xlabel('Percentage of Missing Data (%)')\n",
    "plt.ylabel('Count(s)')\n",
    "plt.show()"
   ]
  },
  {
   "cell_type": "code",
   "execution_count": 8,
   "metadata": {},
   "outputs": [
    {
     "name": "stdout",
     "output_type": "stream",
     "text": [
      "Attributes with equal to or under 2% of missing data: 9\n",
      "Attributes with over 2% of missing data: 9\n",
      "Attributes with missing data that exceeds 2%: \n",
      "artist          20.381152\n",
      "firstName        2.913089\n",
      "gender           2.913089\n",
      "lastName         2.913089\n",
      "length          20.381152\n",
      "location         2.913089\n",
      "registration     2.913089\n",
      "song            20.381152\n",
      "userAgent        2.913089\n",
      "dtype: float64\n"
     ]
    }
   ],
   "source": [
    "# Investigate patterns in the amount of missing data in each column\n",
    "data_under_2 = (null_number / df_sparkify.count() * 100) <= 2\n",
    "data_over_2 = (null_number / df_sparkify.count() * 100) > 2\n",
    "attri_over_2 = null_number.loc[(null_number / df_sparkify.count() * 100) > 2]\n",
    "print(\"Attributes with equal to or under 2% of missing data: {}\".format(data_under_2.sum()))\n",
    "print(\"Attributes with over 2% of missing data: {}\".format(data_over_2.sum()))\n",
    "print(\"Attributes with missing data that exceeds 2%: \\n{}\".format(attri_over_2 / df_sparkify.count() * 100))"
   ]
  },
  {
   "cell_type": "code",
   "execution_count": 9,
   "metadata": {},
   "outputs": [
    {
     "name": "stdout",
     "output_type": "stream",
     "text": [
      "+---------+------+-------------+-----+--------------------+------+---------------+---------+--------------------+------+-------------+------+\n",
      "|     auth|gender|itemInSession|level|            location|method|           page|sessionId|                song|status|           ts|userId|\n",
      "+---------+------+-------------+-----+--------------------+------+---------------+---------+--------------------+------+-------------+------+\n",
      "|Logged In|     M|           50| paid|     Bakersfield, CA|   PUT|       NextSong|       29|           Rockpools|   200|1538352117000|    30|\n",
      "|Logged In|     M|           79| free|Boston-Cambridge-...|   PUT|       NextSong|        8|              Canada|   200|1538352180000|     9|\n",
      "|Logged In|     M|           51| paid|     Bakersfield, CA|   PUT|       NextSong|       29|   Time For Miracles|   200|1538352394000|    30|\n",
      "|Logged In|     M|           80| free|Boston-Cambridge-...|   PUT|       NextSong|        8|Knocking On Forbi...|   200|1538352416000|     9|\n",
      "|Logged In|     M|           52| paid|     Bakersfield, CA|   PUT|       NextSong|       29|Harder Better Fas...|   200|1538352676000|    30|\n",
      "|Logged In|     M|           81| free|Boston-Cambridge-...|   PUT|       NextSong|        8|      Don't Leave Me|   200|1538352678000|     9|\n",
      "|Logged In|     M|           82| free|Boston-Cambridge-...|   PUT|       NextSong|        8|         Run Run Run|   200|1538352886000|     9|\n",
      "|Logged In|     M|           53| paid|     Bakersfield, CA|   PUT|       NextSong|       29|Passengers (Old A...|   200|1538352899000|    30|\n",
      "|Logged In|     M|           54| paid|     Bakersfield, CA|   PUT|Add to Playlist|       29|                null|   200|1538352905000|    30|\n",
      "|Logged In|     M|           55| paid|     Bakersfield, CA|   PUT|       NextSong|       29|          Fuck Kitty|   200|1538353084000|    30|\n",
      "|Logged In|     M|           83| free|Boston-Cambridge-...|   PUT|       NextSong|        8|   Walk On The Water|   200|1538353146000|     9|\n",
      "|Logged In|     M|           84| free|Boston-Cambridge-...|   GET|    Roll Advert|        8|                null|   200|1538353150000|     9|\n",
      "|Logged In|     M|           56| paid|     Bakersfield, CA|   PUT|       NextSong|       29|                Jade|   200|1538353218000|    30|\n",
      "|Logged In|     M|           85| free|Boston-Cambridge-...|   PUT|       NextSong|        8|      Gettin' Better|   200|1538353375000|     9|\n",
      "|Logged In|     M|           86| free|Boston-Cambridge-...|   PUT|      Thumbs Up|        8|                null|   307|1538353376000|     9|\n",
      "|Logged In|     M|           57| paid|     Bakersfield, CA|   PUT|       NextSong|       29|   So-Called Friends|   200|1538353441000|    30|\n",
      "|Logged In|     M|           87| free|Boston-Cambridge-...|   PUT|       NextSong|        8| You've Got The Love|   200|1538353576000|     9|\n",
      "|Logged In|     F|            0| free|     Tallahassee, FL|   PUT|       NextSong|      217|Citizens Of Tomorrow|   200|1538353668000|    74|\n",
      "|Logged In|     M|           58| paid|     Bakersfield, CA|   PUT|       NextSong|       29|           Represent|   200|1538353687000|    30|\n",
      "|Logged In|     M|           88| free|Boston-Cambridge-...|   PUT|       NextSong|        8|              Swisha|   200|1538353744000|     9|\n",
      "+---------+------+-------------+-----+--------------------+------+---------------+---------+--------------------+------+-------------+------+\n",
      "only showing top 20 rows\n",
      "\n"
     ]
    }
   ],
   "source": [
    "# Remove the outlier columns from the dataset\n",
    "df_sparkify = df_sparkify.drop(*['artist', 'firstname', 'lastname', 'length', 'registration', 'userAgent'])\n",
    "df_sparkify.show()\n"
   ]
  },
  {
   "cell_type": "code",
   "execution_count": 10,
   "metadata": {},
   "outputs": [
    {
     "data": {
      "text/plain": [
       "auth                 0\n",
       "gender            8346\n",
       "itemInSession        0\n",
       "level                0\n",
       "location          8346\n",
       "method               0\n",
       "page                 0\n",
       "sessionId            0\n",
       "song             58392\n",
       "status               0\n",
       "ts                   0\n",
       "userId               0\n",
       "dtype: int64"
      ]
     },
     "execution_count": 10,
     "metadata": {},
     "output_type": "execute_result"
    }
   ],
   "source": [
    "df_sparkify.toPandas().isnull().sum()"
   ]
  },
  {
   "cell_type": "markdown",
   "metadata": {},
   "source": [
    "artist', 'firstname', ', 'lastname', 'length', ', 'registration',  'userAgent'])"
   ]
  },
  {
   "cell_type": "code",
   "execution_count": 11,
   "metadata": {},
   "outputs": [
    {
     "name": "stdout",
     "output_type": "stream",
     "text": [
      "286500 12\n"
     ]
    }
   ],
   "source": [
    "print(df_sparkify.count(), len(df_sparkify.columns))"
   ]
  },
  {
   "cell_type": "code",
   "execution_count": 12,
   "metadata": {},
   "outputs": [
    {
     "name": "stdout",
     "output_type": "stream",
     "text": [
      "root\n",
      " |-- auth: string (nullable = true)\n",
      " |-- gender: string (nullable = true)\n",
      " |-- itemInSession: long (nullable = true)\n",
      " |-- level: string (nullable = true)\n",
      " |-- location: string (nullable = true)\n",
      " |-- method: string (nullable = true)\n",
      " |-- page: string (nullable = true)\n",
      " |-- sessionId: long (nullable = true)\n",
      " |-- song: string (nullable = true)\n",
      " |-- status: long (nullable = true)\n",
      " |-- ts: long (nullable = true)\n",
      " |-- userId: string (nullable = true)\n",
      "\n"
     ]
    }
   ],
   "source": [
    "df_sparkify.printSchema()"
   ]
  },
  {
   "cell_type": "code",
   "execution_count": 13,
   "metadata": {},
   "outputs": [],
   "source": [
    "df_sparkify = df_sparkify.filter((df_sparkify.userId!=\"\") | (df_sparkify.sessionId!=\"\"))"
   ]
  },
  {
   "cell_type": "code",
   "execution_count": null,
   "metadata": {},
   "outputs": [],
   "source": []
  },
  {
   "cell_type": "code",
   "execution_count": null,
   "metadata": {},
   "outputs": [],
   "source": []
  },
  {
   "cell_type": "markdown",
   "metadata": {},
   "source": [
    "# Exploratory Data Analysis\n",
    "When you're working with the full dataset, perform EDA by loading a small subset of the data and doing basic manipulations within Spark. In this workspace, you are already provided a small subset of data you can explore.\n",
    "\n",
    "### Define Churn\n",
    "\n",
    "Once you've done some preliminary analysis, create a column `Churn` to use as the label for your model. I suggest using the `Cancellation Confirmation` events to define your churn, which happen for both paid and free users. As a bonus task, you can also look into the `Downgrade` events.\n",
    "\n",
    "### Explore Data\n",
    "Once you've defined churn, perform some exploratory data analysis to observe the behavior for users who stayed vs users who churned. You can start by exploring aggregates on these two groups of users, observing how much of a specific action they experienced per a certain time unit or number of songs played."
   ]
  },
  {
   "cell_type": "code",
   "execution_count": 14,
   "metadata": {},
   "outputs": [],
   "source": [
    "churn_users = df_sparkify.filter(df_sparkify.page==\"Cancellation Confirmation\").select(\"userId\").dropDuplicates()\n",
    "churn_users_list = churn_users.toPandas()['userId'].values.tolist()\n",
    "df_sparkify = df_sparkify.withColumn('churn', df_sparkify.userId.isin(churn_users_list))\n",
    "df_sparkify = df_sparkify.withColumn('region', F.split(df_sparkify.location, ', ')[1])"
   ]
  },
  {
   "cell_type": "code",
   "execution_count": 15,
   "metadata": {},
   "outputs": [
    {
     "data": {
      "text/plain": [
       "58"
      ]
     },
     "execution_count": 15,
     "metadata": {},
     "output_type": "execute_result"
    }
   ],
   "source": [
    "df_sparkify.select('region').dropDuplicates().count()"
   ]
  },
  {
   "cell_type": "code",
   "execution_count": 16,
   "metadata": {},
   "outputs": [],
   "source": [
    "set_time = F.udf(lambda x: datetime.fromtimestamp(x / 1000.0).strftime(\"%Y-%m-%d %H:%M:%S\"))\n",
    "df_sparkify = df_sparkify.withColumn(\"time\", F.to_timestamp(set_time(df_sparkify.ts), 'yyyy-MM-dd HH:mm:ss'))"
   ]
  },
  {
   "cell_type": "code",
   "execution_count": 17,
   "metadata": {},
   "outputs": [],
   "source": [
    "\n",
    "df_sparkify_agg = df_sparkify.groupBy('userId').agg(F.min('gender').alias('gender'),\n",
    "                                                   F.min('region').alias('region'),\n",
    "                                                   F.min('ts').alias('firstSession'), \n",
    "                                                   F.max('ts').alias('lastSession'),\n",
    "                                                   F.count('song').alias('songsListened'),\n",
    "                                                   F.count('sessionId').alias('totalSessions'),\n",
    "                                                   F.min('churn').alias('churn')).sort('userId')\n",
    "\n",
    "df_sparkify_agg = df_sparkify_agg.withColumn(\"firstSession\", \\\n",
    "                    F.to_timestamp(set_time(df_sparkify_agg.firstSession),'yyyy-MM-dd HH:mm:ss'))\n",
    "df_sparkify_agg = df_sparkify_agg.withColumn(\"lastSession\", \\\n",
    "                    F.to_timestamp(set_time(df_sparkify_agg.lastSession),'yyyy-MM-dd HH:mm:ss'))\n",
    "df_sparkify_agg = df_sparkify_agg.withColumn('totalDays', F.datediff(\"lastSession\", \"firstSession\"))"
   ]
  },
  {
   "cell_type": "code",
   "execution_count": 18,
   "metadata": {},
   "outputs": [
    {
     "name": "stdout",
     "output_type": "stream",
     "text": [
      "+------+------+------+-------------------+-------------------+-------------+-------------+-----+---------+\n",
      "|userId|gender|region|       firstSession|        lastSession|songsListened|totalSessions|churn|totalDays|\n",
      "+------+------+------+-------------------+-------------------+-------------+-------------+-----+---------+\n",
      "|    10|     M|    MS|2018-10-08 02:20:20|2018-11-19 12:49:48|          673|          795|false|       42|\n",
      "|   100|     M|    TX|2018-10-02 15:04:22|2018-11-30 14:15:49|         2682|         3214|false|       59|\n",
      "|100001|     F|    FL|2018-10-01 06:48:24|2018-10-02 16:36:45|          133|          187| true|        1|\n",
      "|100002|     F|    CA|2018-10-08 22:57:25|2018-12-03 01:11:16|          195|          218|false|       56|\n",
      "|100003|     F|    FL|2018-10-09 15:53:40|2018-10-11 16:19:41|           51|           78| true|        2|\n",
      "|100004|     F|    NY|2018-10-03 02:47:15|2018-11-29 02:37:45|          942|         1245|false|       57|\n",
      "|100005|     M|    LA|2018-10-01 15:16:55|2018-10-19 17:57:05|          154|          216| true|       18|\n",
      "|100006|     F|    MI|2018-10-05 13:51:04|2018-10-05 15:24:30|           26|           44| true|        0|\n",
      "|100007|     F|    AR|2018-10-02 07:30:03|2018-11-29 11:45:09|          423|          520| true|       58|\n",
      "|100008|     F|    CA|2018-10-09 16:14:24|2018-11-27 16:13:39|          772|          940|false|       49|\n",
      "+------+------+------+-------------------+-------------------+-------------+-------------+-----+---------+\n",
      "only showing top 10 rows\n",
      "\n"
     ]
    }
   ],
   "source": [
    "df_sparkify_agg.show(10)"
   ]
  },
  {
   "cell_type": "code",
   "execution_count": 19,
   "metadata": {},
   "outputs": [
    {
     "name": "stdout",
     "output_type": "stream",
     "text": [
      "+-----+-------------+\n",
      "|churn|count(userId)|\n",
      "+-----+-------------+\n",
      "| true|           52|\n",
      "|false|          173|\n",
      "+-----+-------------+\n",
      "\n"
     ]
    }
   ],
   "source": [
    "df_sparkify_agg.groupBy('churn').agg(F.count('userId')).show()"
   ]
  },
  {
   "cell_type": "code",
   "execution_count": 20,
   "metadata": {},
   "outputs": [
    {
     "name": "stdout",
     "output_type": "stream",
     "text": [
      "+-----+------+-------------+\n",
      "|churn|gender|count(userId)|\n",
      "+-----+------+-------------+\n",
      "| true|     F|           20|\n",
      "|false|     M|           89|\n",
      "| true|     M|           32|\n",
      "|false|     F|           84|\n",
      "+-----+------+-------------+\n",
      "\n"
     ]
    }
   ],
   "source": [
    "\n",
    "df_sparkify_agg.groupBy(['churn', 'gender']).agg(F.count('userId')).show()"
   ]
  },
  {
   "cell_type": "code",
   "execution_count": 21,
   "metadata": {},
   "outputs": [],
   "source": [
    "df_sparkify_1 = df_sparkify_agg.toPandas()"
   ]
  },
  {
   "cell_type": "markdown",
   "metadata": {},
   "source": [
    "# 1 Can we say the gender has effect on Churn or not ?"
   ]
  },
  {
   "cell_type": "code",
   "execution_count": 22,
   "metadata": {},
   "outputs": [
    {
     "data": {
      "image/png": "[encoded data removed]",
      "text/plain": [
       "<matplotlib.figure.Figure at 0x7f4b116b9160>"
      ]
     },
     "metadata": {
      "needs_background": "light"
     },
     "output_type": "display_data"
    }
   ],
   "source": [
    "\n",
    "fig, (ax1, ax2) = plt.subplots(1, 2, figsize=(10,7), sharey=True)\n",
    "ax1.bar(['No churn', 'Churn'],df_sparkify_1[df_sparkify_1['gender']=='F'].groupby(['churn'])['userId'].count())\n",
    "ax2.bar(['No churn', 'Churn'], df_sparkify_1[df_sparkify_1['gender']=='M'].groupby(['churn'])['userId'].count())\n",
    "ax1.set_title('Distribution of churn users on Female group')\n",
    "ax2.set_title('Distribution of churn users on Male group')\n",
    "plt.show()"
   ]
  },
  {
   "cell_type": "code",
   "execution_count": 23,
   "metadata": {},
   "outputs": [
    {
     "data": {
      "text/plain": [
       "churn\n",
       "False    54\n",
       "True     29\n",
       "Name: region, dtype: int64"
      ]
     },
     "execution_count": 23,
     "metadata": {},
     "output_type": "execute_result"
    }
   ],
   "source": [
    "df_sparkify_1.groupby('churn')['region'].nunique()"
   ]
  },
  {
   "cell_type": "markdown",
   "metadata": {},
   "source": [
    "There are regions that does not have churn users. For this reason we have to be cautious including this feature into our ML model. If we have churn users in the full dataset, then it will be ok to add the feature in the model, if not, then we could overfit our model.\n",
    "\n"
   ]
  },
  {
   "cell_type": "markdown",
   "metadata": {},
   "source": [
    "# 2 Churn by Songs and Days Registered\n"
   ]
  },
  {
   "cell_type": "code",
   "execution_count": 24,
   "metadata": {},
   "outputs": [
    {
     "data": {
      "image/png": "[encoded data removed]",
      "text/plain": [
       "<matplotlib.figure.Figure at 0x7f4b116a4080>"
      ]
     },
     "metadata": {
      "needs_background": "light"
     },
     "output_type": "display_data"
    }
   ],
   "source": [
    "churn = df_sparkify_1[df_sparkify_1['churn']==True]\n",
    "no_churn =df_sparkify_1[df_sparkify_1['churn']==False]\n",
    "\n",
    "plt.figure(figsize=(15,10))\n",
    "plt.scatter(churn['songsListened'], churn['totalDays'], edgecolor='black', label='Churn')\n",
    "plt.scatter(no_churn['songsListened'], no_churn['totalDays'], edgecolor='black', label='No Churn')\n",
    "plt.xlabel('Number of songs listened')\n",
    "plt.ylabel('Days registered')\n",
    "plt.grid()\n",
    "plt.legend()\n",
    "plt.show()"
   ]
  },
  {
   "cell_type": "markdown",
   "metadata": {},
   "source": [
    "# 3 Churn by Total Sessions\n"
   ]
  },
  {
   "cell_type": "code",
   "execution_count": 25,
   "metadata": {},
   "outputs": [
    {
     "data": {
      "image/png": "[encoded data removed]",
      "text/plain": [
       "<matplotlib.figure.Figure at 0x7f4b0b086208>"
      ]
     },
     "metadata": {
      "needs_background": "light"
     },
     "output_type": "display_data"
    },
    {
     "data": {
      "text/plain": [
       "<pandas.plotting._core.FramePlotMethods object at 0x7f4b0fdb2668>"
      ]
     },
     "execution_count": 25,
     "metadata": {},
     "output_type": "execute_result"
    }
   ],
   "source": [
    "\n",
    "plt.figure(figsize=(15,10))\n",
    "df_sparkify_1.groupby('churn')['totalSessions'].plot(kind='hist', alpha=0.6, edgecolor='black', bins=30, \n",
    "                                          title='Histogram of total number of sessions')\n",
    "plt.xlabel('Number of sessions')\n",
    "plt.show()\n",
    "df_sparkify_1.plot"
   ]
  },
  {
   "cell_type": "markdown",
   "metadata": {},
   "source": [
    "# Feature Engineering\n",
    "Once you've familiarized yourself with the data, build out the features you find promising to train your model on. To work with the full dataset, you can follow the following steps.\n",
    "- Write a script to extract the necessary features from the smaller subset of data\n",
    "- Ensure that your script is scalable, using the best practices discussed in Lesson 3\n",
    "- Try your script on the full data set, debugging your script if necessary\n",
    "\n",
    "If you are working in the classroom workspace, you can just extract features based on the small subset of data contained here. Be sure to transfer over this work to the larger dataset when you work on your Spark cluster."
   ]
  },
  {
   "cell_type": "markdown",
   "metadata": {},
   "source": [
    "# 1 Locate the Region  from the user location "
   ]
  },
  {
   "cell_type": "code",
   "execution_count": 26,
   "metadata": {},
   "outputs": [],
   "source": [
    "df_sparkify = df_sparkify.withColumn('region', F.split(df_sparkify.location, ', ')[1])\n"
   ]
  },
  {
   "cell_type": "markdown",
   "metadata": {},
   "source": [
    "## 2. Get gender, region, first/last session, number of songs listened and number of total sessions by user¶\n"
   ]
  },
  {
   "cell_type": "code",
   "execution_count": 27,
   "metadata": {},
   "outputs": [],
   "source": [
    "df_sparkify_agg = df_sparkify.groupBy('userId').agg(F.min('gender').alias('gender'),\n",
    "                                                   F.min('region').alias('region'),\n",
    "                                                   F.min('ts').alias('firstSession'), \n",
    "                                                   F.max('ts').alias('lastSession'),\n",
    "                                                   F.count('song').alias('songsListened'),\n",
    "                                                   F.count('sessionId').alias('totalSessions')).sort('userId')\n",
    "\n",
    "df_sparkify_agg = df_sparkify_agg .withColumn(\"firstSession\", \\\n",
    "                    F.to_timestamp(set_time(df_sparkify_agg.firstSession),'yyyy-MM-dd HH:mm:ss'))\n",
    "df_sparkify_agg = df_sparkify_agg .withColumn(\"lastSession\", \\\n",
    "                    F.to_timestamp(set_time(df_sparkify_agg.lastSession),'yyyy-MM-dd HH:mm:ss'))\n",
    "df_sparkify_agg  = df_sparkify_agg .withColumn('totalDays', F.datediff(\"lastSession\", \"firstSession\"))\n",
    "df_sparkify_agg  = df_sparkify_agg.drop('firstSession').drop('lastSession')"
   ]
  },
  {
   "cell_type": "markdown",
   "metadata": {},
   "source": [
    "## 3. Get the current suscription plan of each user¶\n"
   ]
  },
  {
   "cell_type": "code",
   "execution_count": 28,
   "metadata": {},
   "outputs": [],
   "source": [
    "df_sparkify_level  = df_sparkify.groupby(\"userId\", \"level\").agg(F.max(df_sparkify.time).alias(\"lastSession\")).sort(\"userId\")\n",
    "df_sparkify_level_last  = df_sparkify_level.groupBy('userId').agg(F.max(df_sparkify_level.lastSession).alias('lastSession'))\n",
    "df_sparkify_level_last = df_sparkify_level_last.join(df_sparkify_level, \n",
    "                  [df_sparkify_level.userId == df_sparkify_level_last.userId,\n",
    "                  df_sparkify_level_last.lastSession == df_sparkify_level .lastSession]).select(\n",
    "                  df_sparkify_level .userId, \"level\").sort(\"userId\")"
   ]
  },
  {
   "cell_type": "markdown",
   "metadata": {},
   "source": [
    "## 4. Compute the number of clicks to each page by user¶\n"
   ]
  },
  {
   "cell_type": "code",
   "execution_count": 29,
   "metadata": {},
   "outputs": [],
   "source": [
    "\n",
    "df_sparkify_counts_long = df_sparkify.groupBy(['userId', 'page']).agg(F.count('page').alias('clicks'))\n",
    "df_sparkify_counts_wide = df_sparkify_counts_long.groupBy('userId').pivot('page').agg(F.first('clicks')).sort('userId')\n",
    "# Dropping Cancel and Cancelation Page as it is the page of churn\n",
    "df_sparkify_counts_wide= df_sparkify_counts_wide.drop('Cancel') \n",
    "df_sparkify_counts_wide = df_sparkify_counts_wide.drop('Cancellation Confirmation') \n",
    "# Replacing nulls by 0 as they represent absence of clicks in that page\n",
    "df_sparkify_counts = df_sparkify_counts_wide.na.fill(0)"
   ]
  },
  {
   "cell_type": "markdown",
   "metadata": {},
   "source": [
    "## 5. Compute the average time session by user¶\n"
   ]
  },
  {
   "cell_type": "code",
   "execution_count": 30,
   "metadata": {},
   "outputs": [],
   "source": [
    "session_time = df_sparkify.groupby(\"userId\", \"sessionId\").agg(\n",
    "    ((F.max(df_sparkify.ts) - F.min(df_sparkify.ts))/(1000*60)).alias(\"lengthSession\"))\n",
    "avg_session_time = session_time.groupby(\"userId\").agg(\n",
    "    F.avg(session_time.lengthSession).alias(\"avgSessionTime\")).sort(\"userId\")"
   ]
  },
  {
   "cell_type": "markdown",
   "metadata": {},
   "source": [
    "## 6. Add label churn¶\n"
   ]
  },
  {
   "cell_type": "code",
   "execution_count": 31,
   "metadata": {},
   "outputs": [],
   "source": [
    "df_sparkify_churn = df_sparkify.groupBy('userId').agg(F.min('churn').alias('churn')).sort('userId')"
   ]
  },
  {
   "cell_type": "markdown",
   "metadata": {},
   "source": [
    "## 6. Merge all DataFrames and convert to numeric binary columns\n"
   ]
  },
  {
   "cell_type": "code",
   "execution_count": 32,
   "metadata": {},
   "outputs": [],
   "source": [
    "df_sparkify_processed = df_sparkify_agg.join(df_sparkify_level_last, on='userId')\n",
    "df_sparkify_processed = df_sparkify_processed.join(avg_session_time, on='userId')\n",
    "df_sparkify_processed = df_sparkify_processed.join(df_sparkify_counts, on='userId')\n",
    "df_sparkify_processed = df_sparkify_processed.join(df_sparkify_churn, on='userId')\n",
    "\n",
    "df_sparkify_processed = df_sparkify_processed.replace([\"M\", \"F\"], [\"0\", \"1\"], \"gender\")\n",
    "df_sparkify_processed = df_sparkify_processed.replace([\"free\", \"paid\"], [\"0\", \"1\"], \"level\")\n",
    "df_sparkify_processed = df_sparkify_processed.replace([\"false\", \"true\"], [\"0\", \"1\"], \"churn\")\n",
    "df_sparkify_processed = df_sparkify_processed.withColumn('gender', df_sparkify_processed.gender.cast(\"float\"))\n",
    "df_sparkify_processed = df_sparkify_processed.withColumn('level', df_sparkify_processed.level.cast(\"float\"))"
   ]
  },
  {
   "cell_type": "code",
   "execution_count": 33,
   "metadata": {},
   "outputs": [
    {
     "name": "stdout",
     "output_type": "stream",
     "text": [
      "+------+------+--------+-------------+-------------+---------+-----+------------------+-----+----------+---------------+---------+-----+----+----+------+--------+-----------+-------------+--------+----------------+--------------+-----------+---------+-------+-----+\n",
      "|userId|gender|  region|songsListened|totalSessions|totalDays|level|    avgSessionTime|About|Add Friend|Add to Playlist|Downgrade|Error|Help|Home|Logout|NextSong|Roll Advert|Save Settings|Settings|Submit Downgrade|Submit Upgrade|Thumbs Down|Thumbs Up|Upgrade|churn|\n",
      "+------+------+--------+-------------+-------------+---------+-----+------------------+-----+----------+---------------+---------+-----+----+----+------+--------+-----------+-------------+--------+----------------+--------------+-----------+---------+-------+-----+\n",
      "|100010|   1.0|      CT|          275|          381|       44|  0.0|154.48333333333332|    1|         4|              7|        0|    0|   2|  11|     5|     275|         52|            0|       0|               0|             0|          5|       17|      2|false|\n",
      "|200002|   0.0|IL-IN-WI|          387|          474|       45|  1.0|266.40000000000003|    3|         4|              8|        5|    0|   2|  20|     5|     387|          7|            0|       3|               0|             1|          6|       21|      2|false|\n",
      "|   125|   0.0|      TX|            8|           11|        0|  0.0|29.566666666666666|    0|         0|              0|        0|    0|   0|   0|     0|       8|          1|            0|       0|               0|             0|          0|        0|      0| true|\n",
      "|   124|   1.0|      NJ|         4079|         4825|       60|  1.0| 578.9942528735633|    7|        74|            118|       41|    6|  23| 176|    59|    4079|          4|            6|      20|               0|             0|         41|      171|      0|false|\n",
      "|    51|   0.0|      KY|         2111|         2464|       16|  1.0| 872.3566666666666|    2|        28|             52|       23|    1|  12|  75|    24|    2111|          0|            1|      12|               0|             0|         21|      100|      0| true|\n",
      "+------+------+--------+-------------+-------------+---------+-----+------------------+-----+----------+---------------+---------+-----+----+----+------+--------+-----------+-------------+--------+----------------+--------------+-----------+---------+-------+-----+\n",
      "only showing top 5 rows\n",
      "\n"
     ]
    }
   ],
   "source": [
    "df_sparkify_processed.show(5)"
   ]
  },
  {
   "cell_type": "code",
   "execution_count": 34,
   "metadata": {},
   "outputs": [],
   "source": [
    "df = df_sparkify_processed"
   ]
  },
  {
   "cell_type": "code",
   "execution_count": 35,
   "metadata": {},
   "outputs": [],
   "source": [
    "file = \"df.csv\"\n",
    "df.write.save(file, format=\"csv\", header=True, mode='overwrite')"
   ]
  },
  {
   "cell_type": "code",
   "execution_count": null,
   "metadata": {},
   "outputs": [],
   "source": []
  },
  {
   "cell_type": "markdown",
   "metadata": {},
   "source": [
    "# Modeling\n",
    "Split the full dataset into train, test, and validation sets. Test out several of the machine learning methods you learned. Evaluate the accuracy of the various models, tuning parameters as necessary. Determine your winning model based on test accuracy and report results on the validation set. Since the churned users are a fairly small subset, I suggest using F1 score as the metric to optimize."
   ]
  },
  {
   "cell_type": "code",
   "execution_count": 36,
   "metadata": {},
   "outputs": [
    {
     "data": {
      "text/plain": [
       "DataFrame[userId: string, gender: string, region: string, songsListened: string, totalSessions: string, totalDays: string, level: string, avgSessionTime: string, About: string, Add Friend: string, Add to Playlist: string, Downgrade: string, Error: string, Help: string, Home: string, Logout: string, NextSong: string, Roll Advert: string, Save Settings: string, Settings: string, Submit Downgrade: string, Submit Upgrade: string, Thumbs Down: string, Thumbs Up: string, Upgrade: string, churn: string]"
      ]
     },
     "execution_count": 36,
     "metadata": {},
     "output_type": "execute_result"
    }
   ],
   "source": [
    "df = spark.read.csv(\"df.csv\", header=True)\n",
    "df.persist()"
   ]
  },
  {
   "cell_type": "code",
   "execution_count": 37,
   "metadata": {},
   "outputs": [
    {
     "name": "stdout",
     "output_type": "stream",
     "text": [
      "root\n",
      " |-- userId: string (nullable = true)\n",
      " |-- gender: string (nullable = true)\n",
      " |-- region: string (nullable = true)\n",
      " |-- songsListened: string (nullable = true)\n",
      " |-- totalSessions: string (nullable = true)\n",
      " |-- totalDays: string (nullable = true)\n",
      " |-- level: string (nullable = true)\n",
      " |-- avgSessionTime: string (nullable = true)\n",
      " |-- About: string (nullable = true)\n",
      " |-- Add Friend: string (nullable = true)\n",
      " |-- Add to Playlist: string (nullable = true)\n",
      " |-- Downgrade: string (nullable = true)\n",
      " |-- Error: string (nullable = true)\n",
      " |-- Help: string (nullable = true)\n",
      " |-- Home: string (nullable = true)\n",
      " |-- Logout: string (nullable = true)\n",
      " |-- NextSong: string (nullable = true)\n",
      " |-- Roll Advert: string (nullable = true)\n",
      " |-- Save Settings: string (nullable = true)\n",
      " |-- Settings: string (nullable = true)\n",
      " |-- Submit Downgrade: string (nullable = true)\n",
      " |-- Submit Upgrade: string (nullable = true)\n",
      " |-- Thumbs Down: string (nullable = true)\n",
      " |-- Thumbs Up: string (nullable = true)\n",
      " |-- Upgrade: string (nullable = true)\n",
      " |-- churn: string (nullable = true)\n",
      "\n"
     ]
    }
   ],
   "source": [
    "df.printSchema()"
   ]
  },
  {
   "cell_type": "code",
   "execution_count": 38,
   "metadata": {},
   "outputs": [
    {
     "data": {
      "text/plain": [
       "26"
      ]
     },
     "execution_count": 38,
     "metadata": {},
     "output_type": "execute_result"
    }
   ],
   "source": [
    "len(df.columns)"
   ]
  },
  {
   "cell_type": "code",
   "execution_count": 39,
   "metadata": {},
   "outputs": [],
   "source": [
    "# When reading the csv all the columns converted to string, so we have to cast the numeric columns to float\n",
    "df = df.replace([\"false\", \"true\"], [\"0\", \"1\"], \"churn\")\n",
    "numeric_columns = ['gender', 'songsListened', 'totalSessions', 'totalDays', 'level', 'avgSessionTime', 'About',\n",
    " 'Add Friend','Add to Playlist', 'Downgrade', 'Error', 'Help', 'Home', 'Logout', 'NextSong', \n",
    " 'Roll Advert', 'Save Settings', 'Settings', 'Submit Downgrade', 'Submit Upgrade', 'Thumbs Down', 'Thumbs Up',\n",
    " 'Upgrade', 'churn']\n",
    "\n",
    "df = df.select('userId', 'region', \n",
    "                               *(F.col(column).cast(\"float\").alias(column) for column in numeric_columns))"
   ]
  },
  {
   "cell_type": "code",
   "execution_count": 40,
   "metadata": {},
   "outputs": [],
   "source": [
    "# This cell is not used as region can make overfit the model\n",
    "# stringIndexer = StringIndexer(inputCol=\"region\", outputCol=\"indexed\")\n",
    "# model = stringIndexer.fit(user_ml_df)\n",
    "# user_ml_df = model.transform(user_ml_df)\n",
    "# encoder = OneHotEncoder(inputCol=\"indexed\", outputCol=\"regionEncoded\")\n",
    "# user_ml_df = encoder.transform(user_ml_df)\n",
    "# user_ml_df = user_ml_df.drop('indexed')"
   ]
  },
  {
   "cell_type": "code",
   "execution_count": 41,
   "metadata": {},
   "outputs": [
    {
     "name": "stdout",
     "output_type": "stream",
     "text": [
      "+------+------+------+-------------+-------------+---------+-----+--------------+-----+----------+---------------+---------+-----+----+----+------+--------+-----------+-------------+--------+----------------+--------------+-----------+---------+-------+-----+\n",
      "|userId|region|gender|songsListened|totalSessions|totalDays|level|avgSessionTime|About|Add Friend|Add to Playlist|Downgrade|Error|Help|Home|Logout|NextSong|Roll Advert|Save Settings|Settings|Submit Downgrade|Submit Upgrade|Thumbs Down|Thumbs Up|Upgrade|churn|\n",
      "+------+------+------+-------------+-------------+---------+-----+--------------+-----+----------+---------------+---------+-----+----+----+------+--------+-----------+-------------+--------+----------------+--------------+-----------+---------+-------+-----+\n",
      "|100004|    NY|   1.0|        942.0|       1245.0|     57.0|  1.0|     185.98651|  0.0|      19.0|           23.0|     10.0|  2.0| 6.0|66.0|  19.0|   942.0|       86.0|          2.0|    11.0|             2.0|           3.0|       11.0|     35.0|    8.0|  0.0|\n",
      "+------+------+------+-------------+-------------+---------+-----+--------------+-----+----------+---------------+---------+-----+----+----+------+--------+-----------+-------------+--------+----------------+--------------+-----------+---------+-------+-----+\n",
      "only showing top 1 row\n",
      "\n"
     ]
    }
   ],
   "source": [
    "df.show(1)"
   ]
  },
  {
   "cell_type": "code",
   "execution_count": 42,
   "metadata": {},
   "outputs": [],
   "source": [
    "columns = ['gender', 'songsListened', 'totalSessions', 'totalDays', 'level', 'avgSessionTime', 'About',\n",
    " 'Add Friend', 'Add to Playlist', 'Downgrade', 'Error', 'Help', 'Home', 'Logout', 'NextSong',\n",
    " 'Roll Advert', 'Save Settings', 'Settings', 'Submit Downgrade', 'Submit Upgrade', 'Thumbs Down',\n",
    " 'Thumbs Up', 'Upgrade']"
   ]
  },
  {
   "cell_type": "code",
   "execution_count": 43,
   "metadata": {},
   "outputs": [],
   "source": [
    "assembler = VectorAssembler(inputCols=columns, outputCol=\"numColumns\")\n",
    "df = assembler.transform(df)\n",
    "\n",
    "scaler = StandardScaler(inputCol=\"numColumns\", outputCol=\"scaledColumns\", withStd=True)\n",
    "scalerModel = scaler.fit(df)\n",
    "df = scalerModel.transform(df)"
   ]
  },
  {
   "cell_type": "code",
   "execution_count": 44,
   "metadata": {},
   "outputs": [],
   "source": [
    "df = df.select(df.scaledColumns.alias('features'), df.churn.alias('label'))"
   ]
  },
  {
   "cell_type": "code",
   "execution_count": 45,
   "metadata": {},
   "outputs": [
    {
     "name": "stdout",
     "output_type": "stream",
     "text": [
      "+--------------------+-----+\n",
      "|            features|label|\n",
      "+--------------------+-----+\n",
      "|[2.00127105192366...|  0.0|\n",
      "|[2.00127105192366...|  0.0|\n",
      "|[0.0,1.4878356154...|  0.0|\n",
      "|(23,[0,1,2,3,5,7,...|  0.0|\n",
      "|(23,[1,2,3,5,11,1...|  0.0|\n",
      "+--------------------+-----+\n",
      "only showing top 5 rows\n",
      "\n"
     ]
    }
   ],
   "source": [
    "df.show(5)"
   ]
  },
  {
   "cell_type": "code",
   "execution_count": 46,
   "metadata": {},
   "outputs": [],
   "source": [
    "train, test = df.randomSplit([0.8, 0.2], seed=42)\n",
    "train = train.cache()"
   ]
  },
  {
   "cell_type": "code",
   "execution_count": 47,
   "metadata": {},
   "outputs": [],
   "source": [
    "lr =  LogisticRegression()\n",
    "\n",
    "paramGrid = ParamGridBuilder() \\\n",
    "    .addGrid(lr.elasticNetParam, [0,1]) \\\n",
    "    .addGrid(lr.regParam, [0, 0.1]) \\\n",
    "    .build()\n",
    "\n",
    "crossval = CrossValidator(estimator=lr,\n",
    "                          estimatorParamMaps=paramGrid,\n",
    "                          evaluator=BinaryClassificationEvaluator(),\n",
    "                          numFolds=3)\n",
    "lr_model = crossval.fit(train)\n",
    "results_lr_train = lr_model.transform(train)\n",
    "results_lr_test = lr_model.transform(test)"
   ]
  },
  {
   "cell_type": "code",
   "execution_count": 48,
   "metadata": {},
   "outputs": [],
   "source": [
    "lr_model.save('Model_lr.model')"
   ]
  },
  {
   "cell_type": "code",
   "execution_count": 49,
   "metadata": {},
   "outputs": [],
   "source": [
    "rcf = RandomForestClassifier()\n",
    "\n",
    "paramGrid = ParamGridBuilder() \\\n",
    "    .addGrid(rcf.numTrees, [50, 100]) \\\n",
    "    .addGrid(rcf.maxDepth, [5, 10]) \\\n",
    "    .build()\n",
    "\n",
    "crossval = CrossValidator(estimator=rcf,\n",
    "                          estimatorParamMaps=paramGrid,\n",
    "                          evaluator=BinaryClassificationEvaluator(),\n",
    "                          numFolds=3)\n",
    "rcf_model = crossval.fit(train)\n",
    "results_rcf_train = rcf_model.transform(train)\n",
    "results_rcf_test = rcf_model.transform(test)\n"
   ]
  },
  {
   "cell_type": "code",
   "execution_count": 50,
   "metadata": {},
   "outputs": [],
   "source": [
    "rcf_model.save('Model_rcf.model')\n"
   ]
  },
  {
   "cell_type": "code",
   "execution_count": 51,
   "metadata": {},
   "outputs": [],
   "source": [
    "gbt = GBTClassifier()\n",
    "\n",
    "paramGrid = ParamGridBuilder() \\\n",
    "    .addGrid(gbt.maxIter, [10, 20]) \\\n",
    "    .addGrid(gbt.maxDepth, [5, 10]) \\\n",
    "    .build()\n",
    "\n",
    "crossval = CrossValidator(estimator=gbt,\n",
    "                          estimatorParamMaps=paramGrid,\n",
    "                          evaluator=BinaryClassificationEvaluator(),\n",
    "                          numFolds=3)\n",
    "gbt_model = crossval.fit(train)\n",
    "results_gbt_train = gbt_model.transform(train)\n",
    "results_gbt_test = gbt_model.transform(test)"
   ]
  },
  {
   "cell_type": "code",
   "execution_count": 52,
   "metadata": {},
   "outputs": [],
   "source": [
    "gbt_model.save('Model_gbt.model')"
   ]
  },
  {
   "cell_type": "code",
   "execution_count": 53,
   "metadata": {},
   "outputs": [],
   "source": [
    "def calculate_f1(results):\n",
    "    \"\"\"Given a table of pyspark.ml.model.transform results, the function calculates and returns the F1 score.\"\"\"\n",
    "    true_positives = results.filter(\"label = 1 and prediction = 1\").count()\n",
    "    false_positives = results.filter(\"label = 0 and prediction = 1\").count()\n",
    "    false_negatives = results.filter(\"label = 1 and prediction = 0\").count()\n",
    "    precision = true_positives / (true_positives + false_positives) \n",
    "    recall = true_positives / (true_positives + false_negatives)\n",
    "    f1 = 2 * precision * recall / (precision + recall)\n",
    "    \n",
    "    return f1"
   ]
  },
  {
   "cell_type": "code",
   "execution_count": 54,
   "metadata": {},
   "outputs": [],
   "source": [
    "results_df = pd.DataFrame({'score': [calculate_f1(results_lr_train), calculate_f1(results_rcf_train),\n",
    "                                      calculate_f1(results_gbt_train), calculate_f1(results_lr_test),\n",
    "                                      calculate_f1(results_rcf_test), calculate_f1(results_gbt_test)],\n",
    "                           'dataset': ['Train', 'Train', 'Train', 'Test', 'Test', 'Test'],\n",
    "                           'model': ['LogisticRegression', 'RandomForest', 'GradientBoosting',\n",
    "                                     'LogisticRegression', 'RandomForest', 'GradientBoosting']})"
   ]
  },
  {
   "cell_type": "code",
   "execution_count": 55,
   "metadata": {},
   "outputs": [
    {
     "name": "stdout",
     "output_type": "stream",
     "text": [
      "F1 score in Logistic Regression model in trainset:  0.3548387096774194\n",
      "F1 score in Logistic Regression model in testset:  0.39999999999999997\n",
      "F1 score in Random Forest model in trainset:  0.9\n",
      "F1 score in Random Forest model in testset:  0.47058823529411764\n",
      "F1 score in Gradient Boosting model in trainset:  1.0\n",
      "F1 score in Gradient Boosting model in testset:  0.4444444444444445\n"
     ]
    }
   ],
   "source": [
    "print('F1 score in Logistic Regression model in trainset: ',  calculate_f1(results_lr_train))\n",
    "print('F1 score in Logistic Regression model in testset: ', calculate_f1(results_lr_test))\n",
    "print('F1 score in Random Forest model in trainset: ', calculate_f1(results_rcf_train))\n",
    "print('F1 score in Random Forest model in testset: ', calculate_f1(results_rcf_test))\n",
    "print('F1 score in Gradient Boosting model in trainset: ', calculate_f1(results_gbt_train))\n",
    "print('F1 score in Gradient Boosting model in testset: ', calculate_f1(results_gbt_test))"
   ]
  },
  {
   "cell_type": "markdown",
   "metadata": {},
   "source": [
    "From the metrics calculated above, logistic regression, amongst the other two classifiers, performs the best in average in predicting the churn rate for Sparkify with the calculated F1 score of 44.4% "
   ]
  },
  {
   "cell_type": "markdown",
   "metadata": {},
   "source": [
    "## Tune GBT classfier to optimize performance"
   ]
  },
  {
   "cell_type": "code",
   "execution_count": 56,
   "metadata": {},
   "outputs": [],
   "source": [
    "gbt = GBTClassifier()\n",
    "\n",
    "paramGrid = ParamGridBuilder() \\\n",
    "    .addGrid(gbt.maxIter, np.arange(10, 20, 30)) \\\n",
    "    .addGrid(gbt.maxDepth, np.arange(3, 7, 1)) \\\n",
    "    .addGrid(gbt.minInstancesPerNode, [1, 10, 20]) \\\n",
    "    .build()\n",
    "\n",
    "crossval = CrossValidator(estimator=gbt,\n",
    "                          estimatorParamMaps=paramGrid,\n",
    "                          evaluator=BinaryClassificationEvaluator(),\n",
    "                          numFolds=5)\n",
    "gbt_model_refined = crossval.fit(train)\n",
    "results_gbt = gbt_model_refined.transform(test)\n",
    "results_gbt_tr = gbt_model_refined.transform(train)"
   ]
  },
  {
   "cell_type": "code",
   "execution_count": 57,
   "metadata": {},
   "outputs": [],
   "source": [
    "gbt_model_refined.save('Model_gbt_refined.model')"
   ]
  },
  {
   "cell_type": "code",
   "execution_count": 58,
   "metadata": {},
   "outputs": [
    {
     "name": "stdout",
     "output_type": "stream",
     "text": [
      "F1 score in Gradient Boosting model in trainset:  0.8131868131868133\n",
      "F1 score in Gradient Boosting model in testset:  0.5833333333333334\n"
     ]
    }
   ],
   "source": [
    "print('F1 score in Gradient Boosting model in trainset: ', calculate_f1(results_gbt_tr))\n",
    "print('F1 score in Gradient Boosting model in testset: ', calculate_f1(results_gbt))"
   ]
  },
  {
   "cell_type": "markdown",
   "metadata": {},
   "source": [
    "As seen from the classification and analysis done above, we can first see that GBT clasifer performed the best compared to random forest and logical regresion  classifiers as measured with its highest F1 score. However, in order to optimize its F1 score and performance, I tuned the hyperparameters of the logistic regression,  As a result, the tuned gbt classfier scored an improved F1 score of 54.4% against the original F1 score of 44.4%, "
   ]
  },
  {
   "cell_type": "code",
   "execution_count": 59,
   "metadata": {},
   "outputs": [
    {
     "data": {
      "image/png": "[encoded data removed]",
      "text/plain": [
       "<matplotlib.figure.Figure at 0x7f4b0fe089e8>"
      ]
     },
     "metadata": {
      "needs_background": "light"
     },
     "output_type": "display_data"
    }
   ],
   "source": [
    "results_df = pd.DataFrame({'score': [calculate_f1(results_gbt_tr), calculate_f1(results_gbt)],\n",
    "                           'dataset': ['Train', 'Test']})\n",
    "plt.figure(figsize=(7,5))\n",
    "sns.barplot(x='dataset', y='score', data=results_df)\n",
    "plt.title('Gradient Boosting F1 score')\n",
    "plt.show()"
   ]
  },
  {
   "cell_type": "code",
   "execution_count": 60,
   "metadata": {},
   "outputs": [
    {
     "data": {
      "text/plain": [
       "[0.8178242744909412,\n",
       " 0.6940684624017958,\n",
       " 0.8210838544171878,\n",
       " 0.6881016514349847]"
      ]
     },
     "execution_count": 60,
     "metadata": {},
     "output_type": "execute_result"
    }
   ],
   "source": [
    "gbt_model.avgMetrics\n"
   ]
  },
  {
   "cell_type": "code",
   "execution_count": 61,
   "metadata": {},
   "outputs": [
    {
     "data": {
      "text/plain": [
       "SparseVector(23, {0: 0.0385, 1: 0.0711, 2: 0.0319, 3: 0.372, 5: 0.0171, 6: 0.025, 7: 0.0338, 8: 0.0472, 9: 0.0054, 10: 0.0, 11: 0.0086, 12: 0.0186, 13: 0.0058, 15: 0.0417, 16: 0.0004, 17: 0.0631, 19: 0.0331, 20: 0.165, 21: 0.0193, 22: 0.0025})"
      ]
     },
     "execution_count": 61,
     "metadata": {},
     "output_type": "execute_result"
    }
   ],
   "source": [
    "gbt_model.bestModel.featureImportances"
   ]
  },
  {
   "cell_type": "markdown",
   "metadata": {},
   "source": [
    "# Final Steps"
   ]
  },
  {
   "cell_type": "markdown",
   "metadata": {},
   "source": [
    "Clean up your code, adding comments and renaming variables to make the code easier to read and maintain. Refer to the Spark Project Overview page and Data Scientist Capstone Project Rubric to make sure you are including all components of the capstone project and meet all expectations. Remember, this includes thorough documentation in a README file in a Github repository, as well as a web app or blog post."
   ]
  },
  {
   "cell_type": "markdown",
   "metadata": {},
   "source": [
    "Done "
   ]
  },
  {
   "cell_type": "code",
   "execution_count": null,
   "metadata": {},
   "outputs": [],
   "source": []
  }
 ],
 "metadata": {
  "kernelspec": {
   "display_name": "Python 3",
   "language": "python",
   "name": "python3"
  },
  "language_info": {
   "codemirror_mode": {
    "name": "ipython",
    "version": 3
   },
   "file_extension": ".py",
   "mimetype": "text/x-python",
   "name": "python",
   "nbconvert_exporter": "python",
   "pygments_lexer": "ipython3",
   "version": "3.6.3"
  }
 },
 "nbformat": 4,
 "nbformat_minor": 2
}
